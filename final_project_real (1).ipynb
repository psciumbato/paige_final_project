{
 "cells": [
  {
   "cell_type": "markdown",
   "metadata": {},
   "source": [
    "### Project Description\n",
    "\n",
    "For my coding project, I decided to make a version of the popular children's game called M.A.S.H. which stands for Mansion, Apartment, Shack, House.\n",
    "This game will ask the user to input things such as names of potential partners, possible numbers of children, and verious types of cars.\n",
    "\n",
    "Below I have demonstarted that the functions I wrote for this game take input from a user and return a random element that is their 'fortune'. The categories for the game print to screen in the beginning of the game, and again with the user's fortunes at the end of the game.\n",
    "\n",
    "Play M.A.S.H. to find out your future!\n"
   ]
  },
  {
   "cell_type": "code",
   "execution_count": 1,
   "metadata": {},
   "outputs": [
    {
     "name": "stdout",
     "output_type": "stream",
     "text": [
      "\u001b[1m============================= test session starts ==============================\u001b[0m\n",
      "platform linux -- Python 3.7.6, pytest-6.1.2, py-1.9.0, pluggy-0.13.1\n",
      "rootdir: /home/psciumba/Untitled Folder\n",
      "collected 5 items                                                              \u001b[0m\n",
      "\n",
      "test_functions.py \u001b[32m.\u001b[0m\u001b[32m.\u001b[0m\u001b[32m.\u001b[0m\u001b[32m.\u001b[0m\u001b[32m.\u001b[0m\u001b[32m                                                  [100%]\u001b[0m\n",
      "\n",
      "\u001b[32m============================== \u001b[32m\u001b[1m5 passed\u001b[0m\u001b[32m in 0.07s\u001b[0m\u001b[32m ===============================\u001b[0m\n"
     ]
    }
   ],
   "source": [
    "!pytest test_functions.py"
   ]
  },
  {
   "cell_type": "code",
   "execution_count": 2,
   "metadata": {},
   "outputs": [],
   "source": [
    "from functions import check_input, print_info, get_residence, get_partner, get_kids, get_car"
   ]
  },
  {
   "cell_type": "code",
   "execution_count": 3,
   "metadata": {},
   "outputs": [
    {
     "name": "stdout",
     "output_type": "stream",
     "text": [
      "the categories:\n",
      "\n",
      "    M\tA\tS\tH\n",
      "\n",
      "        [1]\tResidence\n",
      "        [2]\tPartner\n",
      "        [3]\tNumber of kids\n",
      "        [4]\tCar\n",
      "        \n"
     ]
    }
   ],
   "source": [
    "print_info()"
   ]
  },
  {
   "cell_type": "code",
   "execution_count": 4,
   "metadata": {},
   "outputs": [
    {
     "name": "stdout",
     "output_type": "stream",
     "text": [
      "type the letter \"r\" to begin playing MASH.\tr\n",
      "did you follow directions? 'y' to continue...y\n",
      "you will live in a: house\n"
     ]
    }
   ],
   "source": [
    "res = get_residence()"
   ]
  },
  {
   "cell_type": "code",
   "execution_count": 5,
   "metadata": {},
   "outputs": [
    {
     "name": "stdout",
     "output_type": "stream",
     "text": [
      "please enter 4 first names. Separate these names using the spacebar.\tsam pam bob rob\n",
      "did you follow directions? 'y' to continue...y\n",
      "your partner is: pam\n"
     ]
    }
   ],
   "source": [
    "part = get_partner()"
   ]
  },
  {
   "cell_type": "code",
   "execution_count": 6,
   "metadata": {},
   "outputs": [
    {
     "name": "stdout",
     "output_type": "stream",
     "text": [
      "please enter 4 numbers (type the numbers out in words) of how many children you would like to have. Separate these numbers using the spacebar.\n",
      "\texample -- one two three four\ttwo four seven nine\n",
      "did you follow directions? 'y' to continue...y\n",
      "you will have four kids\n"
     ]
    }
   ],
   "source": [
    "kid = get_kids()"
   ]
  },
  {
   "cell_type": "code",
   "execution_count": 7,
   "metadata": {},
   "outputs": [
    {
     "name": "stdout",
     "output_type": "stream",
     "text": [
      "please enter 4 types of cars you would like to have. Separate these cars using the spacebar.\ttoyota kia ford honda\n",
      "did you follow directions? 'y' to continue...y\n",
      "you will drive a: kia\n"
     ]
    }
   ],
   "source": [
    "car = get_car()"
   ]
  },
  {
   "cell_type": "code",
   "execution_count": 9,
   "metadata": {},
   "outputs": [
    {
     "name": "stdout",
     "output_type": "stream",
     "text": [
      "your MASH fortune is...\n",
      " you will live in a house.\n",
      " your partner is pam.\n",
      " you will have four kids.\n",
      " you will drive a kia.\n",
      "\n"
     ]
    }
   ],
   "source": [
    "print('your MASH fortune is...')\n",
    "print(' you will live in a ' + (res) + '.\\n', 'your partner is ' + part + '.\\n', 'you will have ' + kid + ' kids.\\n', 'you will drive a ' + car + '.\\n')"
   ]
  },
  {
   "cell_type": "markdown",
   "metadata": {},
   "source": [
    "### Extra credit\n",
    "\n",
    "Although my code for my M.A.S.H. game is not perfect, I feel that I went above and beyond for a few reasons. First, I have no prior knowledge in coding in any programming language. Next, I had 6 unique functions, which is double what is required. I learned a new way to test my 'check_input' function using the packages: import mock and import builtins. "
   ]
  }
 ],
 "metadata": {
  "kernelspec": {
   "display_name": "Python 3",
   "language": "python",
   "name": "python3"
  },
  "language_info": {
   "codemirror_mode": {
    "name": "ipython",
    "version": 3
   },
   "file_extension": ".py",
   "mimetype": "text/x-python",
   "name": "python",
   "nbconvert_exporter": "python",
   "pygments_lexer": "ipython3",
   "version": "3.7.6"
  }
 },
 "nbformat": 4,
 "nbformat_minor": 4
}
